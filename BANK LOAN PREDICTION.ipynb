{
 "cells": [
  {
   "cell_type": "markdown",
   "id": "7c123aa9",
   "metadata": {},
   "source": [
    "# BANK LOAN PREDICTION\n",
    "\n",
    "This case is about a bank (Thera Bank) whose management wants to explore ways of \n",
    "converting its liability customers to personal loan customers (while retaining them as \n",
    "depositors). A campaign that the bank ran last year for liability customers showed a \n",
    "healthy conversion rate of over 9% success. This has encouraged the retail marketing \n",
    "department to devise campaigns with better target marketing to increase the success \n",
    "ratio with minimal budget.\n",
    "\n",
    "\n",
    "## ATTRIBUTE INFORMATION: <br>\n",
    " ID : Customer ID <br>\n",
    " Age : Customer's age in completed years <br>\n",
    " Experience : #years of professional experience <br>\n",
    " Income : Annual income of the customer  <br>\n",
    " ZIP Code : Home Address ZIP code. <br>\n",
    " Family : Family size of the customer <br>\n",
    " CCAvg : Avg. spending on credit cards per month  <br>\n",
    " Education : Education Level. 1: Undergrad; 2: Graduate; 3: Advanced/Professional <br>\n",
    " Mortgage : Value of house mortgage if any. <br>\n",
    " Personal Loan : Did this customer accept the personal loan offered in the last campaign? <br>\n",
    " Securities Account : Does the customer have a securities account with the bank? <br>\n",
    " CD Account : Does the customer have a certificate of deposit (CD) account with the bank? <br>\n",
    " Online : Does the customer use internet banking facilities? <br>\n",
    " Credit card : Does the customer use a credit card issued by UniversalBank? <br>"
   ]
  },
  {
   "cell_type": "code",
   "execution_count": 3,
   "id": "e8f52e60",
   "metadata": {},
   "outputs": [],
   "source": [
    "import  numpy as np\n",
    "import pandas as pd\n",
    "import seaborn as sns\n",
    "from matplotlib import pyplot as plt"
   ]
  },
  {
   "cell_type": "code",
   "execution_count": 4,
   "id": "c9131ad7",
   "metadata": {},
   "outputs": [],
   "source": [
    "data=pd.read_csv(\"Bank_Personal_Loan_Modelling.csv\")"
   ]
  },
  {
   "cell_type": "code",
   "execution_count": 5,
   "id": "03ef7767",
   "metadata": {},
   "outputs": [
    {
     "data": {
      "text/html": [
       "<div>\n",
       "<style scoped>\n",
       "    .dataframe tbody tr th:only-of-type {\n",
       "        vertical-align: middle;\n",
       "    }\n",
       "\n",
       "    .dataframe tbody tr th {\n",
       "        vertical-align: top;\n",
       "    }\n",
       "\n",
       "    .dataframe thead th {\n",
       "        text-align: right;\n",
       "    }\n",
       "</style>\n",
       "<table border=\"1\" class=\"dataframe\">\n",
       "  <thead>\n",
       "    <tr style=\"text-align: right;\">\n",
       "      <th></th>\n",
       "      <th>ID</th>\n",
       "      <th>Age</th>\n",
       "      <th>Experience</th>\n",
       "      <th>Income</th>\n",
       "      <th>ZIP Code</th>\n",
       "      <th>Family</th>\n",
       "      <th>CCAvg</th>\n",
       "      <th>Education</th>\n",
       "      <th>Mortgage</th>\n",
       "      <th>Personal Loan</th>\n",
       "      <th>Securities Account</th>\n",
       "      <th>CD Account</th>\n",
       "      <th>Online</th>\n",
       "      <th>CreditCard</th>\n",
       "    </tr>\n",
       "  </thead>\n",
       "  <tbody>\n",
       "    <tr>\n",
       "      <th>0</th>\n",
       "      <td>1</td>\n",
       "      <td>25</td>\n",
       "      <td>1</td>\n",
       "      <td>49</td>\n",
       "      <td>91107</td>\n",
       "      <td>4</td>\n",
       "      <td>1.6</td>\n",
       "      <td>1</td>\n",
       "      <td>0</td>\n",
       "      <td>0</td>\n",
       "      <td>1</td>\n",
       "      <td>0</td>\n",
       "      <td>0</td>\n",
       "      <td>0</td>\n",
       "    </tr>\n",
       "    <tr>\n",
       "      <th>1</th>\n",
       "      <td>2</td>\n",
       "      <td>45</td>\n",
       "      <td>19</td>\n",
       "      <td>34</td>\n",
       "      <td>90089</td>\n",
       "      <td>3</td>\n",
       "      <td>1.5</td>\n",
       "      <td>1</td>\n",
       "      <td>0</td>\n",
       "      <td>0</td>\n",
       "      <td>1</td>\n",
       "      <td>0</td>\n",
       "      <td>0</td>\n",
       "      <td>0</td>\n",
       "    </tr>\n",
       "    <tr>\n",
       "      <th>2</th>\n",
       "      <td>3</td>\n",
       "      <td>39</td>\n",
       "      <td>15</td>\n",
       "      <td>11</td>\n",
       "      <td>94720</td>\n",
       "      <td>1</td>\n",
       "      <td>1.0</td>\n",
       "      <td>1</td>\n",
       "      <td>0</td>\n",
       "      <td>0</td>\n",
       "      <td>0</td>\n",
       "      <td>0</td>\n",
       "      <td>0</td>\n",
       "      <td>0</td>\n",
       "    </tr>\n",
       "    <tr>\n",
       "      <th>3</th>\n",
       "      <td>4</td>\n",
       "      <td>35</td>\n",
       "      <td>9</td>\n",
       "      <td>100</td>\n",
       "      <td>94112</td>\n",
       "      <td>1</td>\n",
       "      <td>2.7</td>\n",
       "      <td>2</td>\n",
       "      <td>0</td>\n",
       "      <td>0</td>\n",
       "      <td>0</td>\n",
       "      <td>0</td>\n",
       "      <td>0</td>\n",
       "      <td>0</td>\n",
       "    </tr>\n",
       "    <tr>\n",
       "      <th>4</th>\n",
       "      <td>5</td>\n",
       "      <td>35</td>\n",
       "      <td>8</td>\n",
       "      <td>45</td>\n",
       "      <td>91330</td>\n",
       "      <td>4</td>\n",
       "      <td>1.0</td>\n",
       "      <td>2</td>\n",
       "      <td>0</td>\n",
       "      <td>0</td>\n",
       "      <td>0</td>\n",
       "      <td>0</td>\n",
       "      <td>0</td>\n",
       "      <td>1</td>\n",
       "    </tr>\n",
       "  </tbody>\n",
       "</table>\n",
       "</div>"
      ],
      "text/plain": [
       "   ID  Age  Experience  Income  ZIP Code  Family  CCAvg  Education  Mortgage  \\\n",
       "0   1   25           1      49     91107       4    1.6          1         0   \n",
       "1   2   45          19      34     90089       3    1.5          1         0   \n",
       "2   3   39          15      11     94720       1    1.0          1         0   \n",
       "3   4   35           9     100     94112       1    2.7          2         0   \n",
       "4   5   35           8      45     91330       4    1.0          2         0   \n",
       "\n",
       "   Personal Loan  Securities Account  CD Account  Online  CreditCard  \n",
       "0              0                   1           0       0           0  \n",
       "1              0                   1           0       0           0  \n",
       "2              0                   0           0       0           0  \n",
       "3              0                   0           0       0           0  \n",
       "4              0                   0           0       0           1  "
      ]
     },
     "execution_count": 5,
     "metadata": {},
     "output_type": "execute_result"
    }
   ],
   "source": [
    "data.head()"
   ]
  },
  {
   "cell_type": "code",
   "execution_count": 6,
   "id": "e2bbbe7d",
   "metadata": {},
   "outputs": [
    {
     "data": {
      "text/plain": [
       "(5000, 14)"
      ]
     },
     "execution_count": 6,
     "metadata": {},
     "output_type": "execute_result"
    }
   ],
   "source": [
    "data.shape"
   ]
  },
  {
   "cell_type": "code",
   "execution_count": 7,
   "id": "14e1e3c2",
   "metadata": {},
   "outputs": [
    {
     "name": "stdout",
     "output_type": "stream",
     "text": [
      "<class 'pandas.core.frame.DataFrame'>\n",
      "RangeIndex: 5000 entries, 0 to 4999\n",
      "Data columns (total 14 columns):\n",
      " #   Column              Non-Null Count  Dtype  \n",
      "---  ------              --------------  -----  \n",
      " 0   ID                  5000 non-null   int64  \n",
      " 1   Age                 5000 non-null   int64  \n",
      " 2   Experience          5000 non-null   int64  \n",
      " 3   Income              5000 non-null   int64  \n",
      " 4   ZIP Code            5000 non-null   int64  \n",
      " 5   Family              5000 non-null   int64  \n",
      " 6   CCAvg               5000 non-null   float64\n",
      " 7   Education           5000 non-null   int64  \n",
      " 8   Mortgage            5000 non-null   int64  \n",
      " 9   Personal Loan       5000 non-null   int64  \n",
      " 10  Securities Account  5000 non-null   int64  \n",
      " 11  CD Account          5000 non-null   int64  \n",
      " 12  Online              5000 non-null   int64  \n",
      " 13  CreditCard          5000 non-null   int64  \n",
      "dtypes: float64(1), int64(13)\n",
      "memory usage: 546.9 KB\n"
     ]
    }
   ],
   "source": [
    "data.info()"
   ]
  },
  {
   "cell_type": "markdown",
   "id": "e39039be",
   "metadata": {},
   "source": [
    "### CHECKING MISSING VALUE"
   ]
  },
  {
   "cell_type": "code",
   "execution_count": 11,
   "id": "daa62170",
   "metadata": {},
   "outputs": [
    {
     "data": {
      "text/plain": [
       "ID                    0\n",
       "Age                   0\n",
       "Experience            0\n",
       "Income                0\n",
       "ZIP Code              0\n",
       "Family                0\n",
       "CCAvg                 0\n",
       "Education             0\n",
       "Mortgage              0\n",
       "Personal Loan         0\n",
       "Securities Account    0\n",
       "CD Account            0\n",
       "Online                0\n",
       "CreditCard            0\n",
       "dtype: int64"
      ]
     },
     "execution_count": 11,
     "metadata": {},
     "output_type": "execute_result"
    }
   ],
   "source": [
    "data.isnull().sum()"
   ]
  },
  {
   "cell_type": "code",
   "execution_count": 12,
   "id": "fcb8b46d",
   "metadata": {},
   "outputs": [],
   "source": [
    "data=data.drop('ID',axis=1)"
   ]
  },
  {
   "cell_type": "code",
   "execution_count": 13,
   "id": "4f132a88",
   "metadata": {},
   "outputs": [
    {
     "data": {
      "text/html": [
       "<div>\n",
       "<style scoped>\n",
       "    .dataframe tbody tr th:only-of-type {\n",
       "        vertical-align: middle;\n",
       "    }\n",
       "\n",
       "    .dataframe tbody tr th {\n",
       "        vertical-align: top;\n",
       "    }\n",
       "\n",
       "    .dataframe thead th {\n",
       "        text-align: right;\n",
       "    }\n",
       "</style>\n",
       "<table border=\"1\" class=\"dataframe\">\n",
       "  <thead>\n",
       "    <tr style=\"text-align: right;\">\n",
       "      <th></th>\n",
       "      <th>Age</th>\n",
       "      <th>Experience</th>\n",
       "      <th>Income</th>\n",
       "      <th>ZIP Code</th>\n",
       "      <th>Family</th>\n",
       "      <th>CCAvg</th>\n",
       "      <th>Education</th>\n",
       "      <th>Mortgage</th>\n",
       "      <th>Personal Loan</th>\n",
       "      <th>Securities Account</th>\n",
       "      <th>CD Account</th>\n",
       "      <th>Online</th>\n",
       "      <th>CreditCard</th>\n",
       "    </tr>\n",
       "  </thead>\n",
       "  <tbody>\n",
       "    <tr>\n",
       "      <th>0</th>\n",
       "      <td>25</td>\n",
       "      <td>1</td>\n",
       "      <td>49</td>\n",
       "      <td>91107</td>\n",
       "      <td>4</td>\n",
       "      <td>1.6</td>\n",
       "      <td>1</td>\n",
       "      <td>0</td>\n",
       "      <td>0</td>\n",
       "      <td>1</td>\n",
       "      <td>0</td>\n",
       "      <td>0</td>\n",
       "      <td>0</td>\n",
       "    </tr>\n",
       "    <tr>\n",
       "      <th>1</th>\n",
       "      <td>45</td>\n",
       "      <td>19</td>\n",
       "      <td>34</td>\n",
       "      <td>90089</td>\n",
       "      <td>3</td>\n",
       "      <td>1.5</td>\n",
       "      <td>1</td>\n",
       "      <td>0</td>\n",
       "      <td>0</td>\n",
       "      <td>1</td>\n",
       "      <td>0</td>\n",
       "      <td>0</td>\n",
       "      <td>0</td>\n",
       "    </tr>\n",
       "    <tr>\n",
       "      <th>2</th>\n",
       "      <td>39</td>\n",
       "      <td>15</td>\n",
       "      <td>11</td>\n",
       "      <td>94720</td>\n",
       "      <td>1</td>\n",
       "      <td>1.0</td>\n",
       "      <td>1</td>\n",
       "      <td>0</td>\n",
       "      <td>0</td>\n",
       "      <td>0</td>\n",
       "      <td>0</td>\n",
       "      <td>0</td>\n",
       "      <td>0</td>\n",
       "    </tr>\n",
       "    <tr>\n",
       "      <th>3</th>\n",
       "      <td>35</td>\n",
       "      <td>9</td>\n",
       "      <td>100</td>\n",
       "      <td>94112</td>\n",
       "      <td>1</td>\n",
       "      <td>2.7</td>\n",
       "      <td>2</td>\n",
       "      <td>0</td>\n",
       "      <td>0</td>\n",
       "      <td>0</td>\n",
       "      <td>0</td>\n",
       "      <td>0</td>\n",
       "      <td>0</td>\n",
       "    </tr>\n",
       "    <tr>\n",
       "      <th>4</th>\n",
       "      <td>35</td>\n",
       "      <td>8</td>\n",
       "      <td>45</td>\n",
       "      <td>91330</td>\n",
       "      <td>4</td>\n",
       "      <td>1.0</td>\n",
       "      <td>2</td>\n",
       "      <td>0</td>\n",
       "      <td>0</td>\n",
       "      <td>0</td>\n",
       "      <td>0</td>\n",
       "      <td>0</td>\n",
       "      <td>1</td>\n",
       "    </tr>\n",
       "    <tr>\n",
       "      <th>5</th>\n",
       "      <td>37</td>\n",
       "      <td>13</td>\n",
       "      <td>29</td>\n",
       "      <td>92121</td>\n",
       "      <td>4</td>\n",
       "      <td>0.4</td>\n",
       "      <td>2</td>\n",
       "      <td>155</td>\n",
       "      <td>0</td>\n",
       "      <td>0</td>\n",
       "      <td>0</td>\n",
       "      <td>1</td>\n",
       "      <td>0</td>\n",
       "    </tr>\n",
       "    <tr>\n",
       "      <th>6</th>\n",
       "      <td>53</td>\n",
       "      <td>27</td>\n",
       "      <td>72</td>\n",
       "      <td>91711</td>\n",
       "      <td>2</td>\n",
       "      <td>1.5</td>\n",
       "      <td>2</td>\n",
       "      <td>0</td>\n",
       "      <td>0</td>\n",
       "      <td>0</td>\n",
       "      <td>0</td>\n",
       "      <td>1</td>\n",
       "      <td>0</td>\n",
       "    </tr>\n",
       "    <tr>\n",
       "      <th>7</th>\n",
       "      <td>50</td>\n",
       "      <td>24</td>\n",
       "      <td>22</td>\n",
       "      <td>93943</td>\n",
       "      <td>1</td>\n",
       "      <td>0.3</td>\n",
       "      <td>3</td>\n",
       "      <td>0</td>\n",
       "      <td>0</td>\n",
       "      <td>0</td>\n",
       "      <td>0</td>\n",
       "      <td>0</td>\n",
       "      <td>1</td>\n",
       "    </tr>\n",
       "    <tr>\n",
       "      <th>8</th>\n",
       "      <td>35</td>\n",
       "      <td>10</td>\n",
       "      <td>81</td>\n",
       "      <td>90089</td>\n",
       "      <td>3</td>\n",
       "      <td>0.6</td>\n",
       "      <td>2</td>\n",
       "      <td>104</td>\n",
       "      <td>0</td>\n",
       "      <td>0</td>\n",
       "      <td>0</td>\n",
       "      <td>1</td>\n",
       "      <td>0</td>\n",
       "    </tr>\n",
       "    <tr>\n",
       "      <th>9</th>\n",
       "      <td>34</td>\n",
       "      <td>9</td>\n",
       "      <td>180</td>\n",
       "      <td>93023</td>\n",
       "      <td>1</td>\n",
       "      <td>8.9</td>\n",
       "      <td>3</td>\n",
       "      <td>0</td>\n",
       "      <td>1</td>\n",
       "      <td>0</td>\n",
       "      <td>0</td>\n",
       "      <td>0</td>\n",
       "      <td>0</td>\n",
       "    </tr>\n",
       "    <tr>\n",
       "      <th>10</th>\n",
       "      <td>65</td>\n",
       "      <td>39</td>\n",
       "      <td>105</td>\n",
       "      <td>94710</td>\n",
       "      <td>4</td>\n",
       "      <td>2.4</td>\n",
       "      <td>3</td>\n",
       "      <td>0</td>\n",
       "      <td>0</td>\n",
       "      <td>0</td>\n",
       "      <td>0</td>\n",
       "      <td>0</td>\n",
       "      <td>0</td>\n",
       "    </tr>\n",
       "    <tr>\n",
       "      <th>11</th>\n",
       "      <td>29</td>\n",
       "      <td>5</td>\n",
       "      <td>45</td>\n",
       "      <td>90277</td>\n",
       "      <td>3</td>\n",
       "      <td>0.1</td>\n",
       "      <td>2</td>\n",
       "      <td>0</td>\n",
       "      <td>0</td>\n",
       "      <td>0</td>\n",
       "      <td>0</td>\n",
       "      <td>1</td>\n",
       "      <td>0</td>\n",
       "    </tr>\n",
       "    <tr>\n",
       "      <th>12</th>\n",
       "      <td>48</td>\n",
       "      <td>23</td>\n",
       "      <td>114</td>\n",
       "      <td>93106</td>\n",
       "      <td>2</td>\n",
       "      <td>3.8</td>\n",
       "      <td>3</td>\n",
       "      <td>0</td>\n",
       "      <td>0</td>\n",
       "      <td>1</td>\n",
       "      <td>0</td>\n",
       "      <td>0</td>\n",
       "      <td>0</td>\n",
       "    </tr>\n",
       "    <tr>\n",
       "      <th>13</th>\n",
       "      <td>59</td>\n",
       "      <td>32</td>\n",
       "      <td>40</td>\n",
       "      <td>94920</td>\n",
       "      <td>4</td>\n",
       "      <td>2.5</td>\n",
       "      <td>2</td>\n",
       "      <td>0</td>\n",
       "      <td>0</td>\n",
       "      <td>0</td>\n",
       "      <td>0</td>\n",
       "      <td>1</td>\n",
       "      <td>0</td>\n",
       "    </tr>\n",
       "    <tr>\n",
       "      <th>14</th>\n",
       "      <td>67</td>\n",
       "      <td>41</td>\n",
       "      <td>112</td>\n",
       "      <td>91741</td>\n",
       "      <td>1</td>\n",
       "      <td>2.0</td>\n",
       "      <td>1</td>\n",
       "      <td>0</td>\n",
       "      <td>0</td>\n",
       "      <td>1</td>\n",
       "      <td>0</td>\n",
       "      <td>0</td>\n",
       "      <td>0</td>\n",
       "    </tr>\n",
       "    <tr>\n",
       "      <th>15</th>\n",
       "      <td>60</td>\n",
       "      <td>30</td>\n",
       "      <td>22</td>\n",
       "      <td>95054</td>\n",
       "      <td>1</td>\n",
       "      <td>1.5</td>\n",
       "      <td>3</td>\n",
       "      <td>0</td>\n",
       "      <td>0</td>\n",
       "      <td>0</td>\n",
       "      <td>0</td>\n",
       "      <td>1</td>\n",
       "      <td>1</td>\n",
       "    </tr>\n",
       "    <tr>\n",
       "      <th>16</th>\n",
       "      <td>38</td>\n",
       "      <td>14</td>\n",
       "      <td>130</td>\n",
       "      <td>95010</td>\n",
       "      <td>4</td>\n",
       "      <td>4.7</td>\n",
       "      <td>3</td>\n",
       "      <td>134</td>\n",
       "      <td>1</td>\n",
       "      <td>0</td>\n",
       "      <td>0</td>\n",
       "      <td>0</td>\n",
       "      <td>0</td>\n",
       "    </tr>\n",
       "    <tr>\n",
       "      <th>17</th>\n",
       "      <td>42</td>\n",
       "      <td>18</td>\n",
       "      <td>81</td>\n",
       "      <td>94305</td>\n",
       "      <td>4</td>\n",
       "      <td>2.4</td>\n",
       "      <td>1</td>\n",
       "      <td>0</td>\n",
       "      <td>0</td>\n",
       "      <td>0</td>\n",
       "      <td>0</td>\n",
       "      <td>0</td>\n",
       "      <td>0</td>\n",
       "    </tr>\n",
       "    <tr>\n",
       "      <th>18</th>\n",
       "      <td>46</td>\n",
       "      <td>21</td>\n",
       "      <td>193</td>\n",
       "      <td>91604</td>\n",
       "      <td>2</td>\n",
       "      <td>8.1</td>\n",
       "      <td>3</td>\n",
       "      <td>0</td>\n",
       "      <td>1</td>\n",
       "      <td>0</td>\n",
       "      <td>0</td>\n",
       "      <td>0</td>\n",
       "      <td>0</td>\n",
       "    </tr>\n",
       "    <tr>\n",
       "      <th>19</th>\n",
       "      <td>55</td>\n",
       "      <td>28</td>\n",
       "      <td>21</td>\n",
       "      <td>94720</td>\n",
       "      <td>1</td>\n",
       "      <td>0.5</td>\n",
       "      <td>2</td>\n",
       "      <td>0</td>\n",
       "      <td>0</td>\n",
       "      <td>1</td>\n",
       "      <td>0</td>\n",
       "      <td>0</td>\n",
       "      <td>1</td>\n",
       "    </tr>\n",
       "  </tbody>\n",
       "</table>\n",
       "</div>"
      ],
      "text/plain": [
       "    Age  Experience  Income  ZIP Code  Family  CCAvg  Education  Mortgage  \\\n",
       "0    25           1      49     91107       4    1.6          1         0   \n",
       "1    45          19      34     90089       3    1.5          1         0   \n",
       "2    39          15      11     94720       1    1.0          1         0   \n",
       "3    35           9     100     94112       1    2.7          2         0   \n",
       "4    35           8      45     91330       4    1.0          2         0   \n",
       "5    37          13      29     92121       4    0.4          2       155   \n",
       "6    53          27      72     91711       2    1.5          2         0   \n",
       "7    50          24      22     93943       1    0.3          3         0   \n",
       "8    35          10      81     90089       3    0.6          2       104   \n",
       "9    34           9     180     93023       1    8.9          3         0   \n",
       "10   65          39     105     94710       4    2.4          3         0   \n",
       "11   29           5      45     90277       3    0.1          2         0   \n",
       "12   48          23     114     93106       2    3.8          3         0   \n",
       "13   59          32      40     94920       4    2.5          2         0   \n",
       "14   67          41     112     91741       1    2.0          1         0   \n",
       "15   60          30      22     95054       1    1.5          3         0   \n",
       "16   38          14     130     95010       4    4.7          3       134   \n",
       "17   42          18      81     94305       4    2.4          1         0   \n",
       "18   46          21     193     91604       2    8.1          3         0   \n",
       "19   55          28      21     94720       1    0.5          2         0   \n",
       "\n",
       "    Personal Loan  Securities Account  CD Account  Online  CreditCard  \n",
       "0               0                   1           0       0           0  \n",
       "1               0                   1           0       0           0  \n",
       "2               0                   0           0       0           0  \n",
       "3               0                   0           0       0           0  \n",
       "4               0                   0           0       0           1  \n",
       "5               0                   0           0       1           0  \n",
       "6               0                   0           0       1           0  \n",
       "7               0                   0           0       0           1  \n",
       "8               0                   0           0       1           0  \n",
       "9               1                   0           0       0           0  \n",
       "10              0                   0           0       0           0  \n",
       "11              0                   0           0       1           0  \n",
       "12              0                   1           0       0           0  \n",
       "13              0                   0           0       1           0  \n",
       "14              0                   1           0       0           0  \n",
       "15              0                   0           0       1           1  \n",
       "16              1                   0           0       0           0  \n",
       "17              0                   0           0       0           0  \n",
       "18              1                   0           0       0           0  \n",
       "19              0                   1           0       0           1  "
      ]
     },
     "execution_count": 13,
     "metadata": {},
     "output_type": "execute_result"
    }
   ],
   "source": [
    "data.head(20)"
   ]
  },
  {
   "cell_type": "markdown",
   "id": "fd51ce80",
   "metadata": {},
   "source": [
    "### CORRELATION BETWEEN VARIABLES"
   ]
  },
  {
   "cell_type": "code",
   "execution_count": 14,
   "id": "d58b7abc",
   "metadata": {},
   "outputs": [
    {
     "data": {
      "text/html": [
       "<div>\n",
       "<style scoped>\n",
       "    .dataframe tbody tr th:only-of-type {\n",
       "        vertical-align: middle;\n",
       "    }\n",
       "\n",
       "    .dataframe tbody tr th {\n",
       "        vertical-align: top;\n",
       "    }\n",
       "\n",
       "    .dataframe thead th {\n",
       "        text-align: right;\n",
       "    }\n",
       "</style>\n",
       "<table border=\"1\" class=\"dataframe\">\n",
       "  <thead>\n",
       "    <tr style=\"text-align: right;\">\n",
       "      <th></th>\n",
       "      <th>Age</th>\n",
       "      <th>Experience</th>\n",
       "      <th>Income</th>\n",
       "      <th>ZIP Code</th>\n",
       "      <th>Family</th>\n",
       "      <th>CCAvg</th>\n",
       "      <th>Education</th>\n",
       "      <th>Mortgage</th>\n",
       "      <th>Personal Loan</th>\n",
       "      <th>Securities Account</th>\n",
       "      <th>CD Account</th>\n",
       "      <th>Online</th>\n",
       "      <th>CreditCard</th>\n",
       "    </tr>\n",
       "  </thead>\n",
       "  <tbody>\n",
       "    <tr>\n",
       "      <th>Age</th>\n",
       "      <td>1.000000</td>\n",
       "      <td>0.994215</td>\n",
       "      <td>-0.055269</td>\n",
       "      <td>-0.029216</td>\n",
       "      <td>-0.046418</td>\n",
       "      <td>-0.052012</td>\n",
       "      <td>0.041334</td>\n",
       "      <td>-0.012539</td>\n",
       "      <td>-0.007726</td>\n",
       "      <td>-0.000436</td>\n",
       "      <td>0.008043</td>\n",
       "      <td>0.013702</td>\n",
       "      <td>0.007681</td>\n",
       "    </tr>\n",
       "    <tr>\n",
       "      <th>Experience</th>\n",
       "      <td>0.994215</td>\n",
       "      <td>1.000000</td>\n",
       "      <td>-0.046574</td>\n",
       "      <td>-0.028626</td>\n",
       "      <td>-0.052563</td>\n",
       "      <td>-0.050077</td>\n",
       "      <td>0.013152</td>\n",
       "      <td>-0.010582</td>\n",
       "      <td>-0.007413</td>\n",
       "      <td>-0.001232</td>\n",
       "      <td>0.010353</td>\n",
       "      <td>0.013898</td>\n",
       "      <td>0.008967</td>\n",
       "    </tr>\n",
       "    <tr>\n",
       "      <th>Income</th>\n",
       "      <td>-0.055269</td>\n",
       "      <td>-0.046574</td>\n",
       "      <td>1.000000</td>\n",
       "      <td>-0.016410</td>\n",
       "      <td>-0.157501</td>\n",
       "      <td>0.645984</td>\n",
       "      <td>-0.187524</td>\n",
       "      <td>0.206806</td>\n",
       "      <td>0.502462</td>\n",
       "      <td>-0.002616</td>\n",
       "      <td>0.169738</td>\n",
       "      <td>0.014206</td>\n",
       "      <td>-0.002385</td>\n",
       "    </tr>\n",
       "    <tr>\n",
       "      <th>ZIP Code</th>\n",
       "      <td>-0.029216</td>\n",
       "      <td>-0.028626</td>\n",
       "      <td>-0.016410</td>\n",
       "      <td>1.000000</td>\n",
       "      <td>0.011778</td>\n",
       "      <td>-0.004061</td>\n",
       "      <td>-0.017377</td>\n",
       "      <td>0.007383</td>\n",
       "      <td>0.000107</td>\n",
       "      <td>0.004704</td>\n",
       "      <td>0.019972</td>\n",
       "      <td>0.016990</td>\n",
       "      <td>0.007691</td>\n",
       "    </tr>\n",
       "    <tr>\n",
       "      <th>Family</th>\n",
       "      <td>-0.046418</td>\n",
       "      <td>-0.052563</td>\n",
       "      <td>-0.157501</td>\n",
       "      <td>0.011778</td>\n",
       "      <td>1.000000</td>\n",
       "      <td>-0.109275</td>\n",
       "      <td>0.064929</td>\n",
       "      <td>-0.020445</td>\n",
       "      <td>0.061367</td>\n",
       "      <td>0.019994</td>\n",
       "      <td>0.014110</td>\n",
       "      <td>0.010354</td>\n",
       "      <td>0.011588</td>\n",
       "    </tr>\n",
       "    <tr>\n",
       "      <th>CCAvg</th>\n",
       "      <td>-0.052012</td>\n",
       "      <td>-0.050077</td>\n",
       "      <td>0.645984</td>\n",
       "      <td>-0.004061</td>\n",
       "      <td>-0.109275</td>\n",
       "      <td>1.000000</td>\n",
       "      <td>-0.136124</td>\n",
       "      <td>0.109905</td>\n",
       "      <td>0.366889</td>\n",
       "      <td>0.015086</td>\n",
       "      <td>0.136534</td>\n",
       "      <td>-0.003611</td>\n",
       "      <td>-0.006689</td>\n",
       "    </tr>\n",
       "    <tr>\n",
       "      <th>Education</th>\n",
       "      <td>0.041334</td>\n",
       "      <td>0.013152</td>\n",
       "      <td>-0.187524</td>\n",
       "      <td>-0.017377</td>\n",
       "      <td>0.064929</td>\n",
       "      <td>-0.136124</td>\n",
       "      <td>1.000000</td>\n",
       "      <td>-0.033327</td>\n",
       "      <td>0.136722</td>\n",
       "      <td>-0.010812</td>\n",
       "      <td>0.013934</td>\n",
       "      <td>-0.015004</td>\n",
       "      <td>-0.011014</td>\n",
       "    </tr>\n",
       "    <tr>\n",
       "      <th>Mortgage</th>\n",
       "      <td>-0.012539</td>\n",
       "      <td>-0.010582</td>\n",
       "      <td>0.206806</td>\n",
       "      <td>0.007383</td>\n",
       "      <td>-0.020445</td>\n",
       "      <td>0.109905</td>\n",
       "      <td>-0.033327</td>\n",
       "      <td>1.000000</td>\n",
       "      <td>0.142095</td>\n",
       "      <td>-0.005411</td>\n",
       "      <td>0.089311</td>\n",
       "      <td>-0.005995</td>\n",
       "      <td>-0.007231</td>\n",
       "    </tr>\n",
       "    <tr>\n",
       "      <th>Personal Loan</th>\n",
       "      <td>-0.007726</td>\n",
       "      <td>-0.007413</td>\n",
       "      <td>0.502462</td>\n",
       "      <td>0.000107</td>\n",
       "      <td>0.061367</td>\n",
       "      <td>0.366889</td>\n",
       "      <td>0.136722</td>\n",
       "      <td>0.142095</td>\n",
       "      <td>1.000000</td>\n",
       "      <td>0.021954</td>\n",
       "      <td>0.316355</td>\n",
       "      <td>0.006278</td>\n",
       "      <td>0.002802</td>\n",
       "    </tr>\n",
       "    <tr>\n",
       "      <th>Securities Account</th>\n",
       "      <td>-0.000436</td>\n",
       "      <td>-0.001232</td>\n",
       "      <td>-0.002616</td>\n",
       "      <td>0.004704</td>\n",
       "      <td>0.019994</td>\n",
       "      <td>0.015086</td>\n",
       "      <td>-0.010812</td>\n",
       "      <td>-0.005411</td>\n",
       "      <td>0.021954</td>\n",
       "      <td>1.000000</td>\n",
       "      <td>0.317034</td>\n",
       "      <td>0.012627</td>\n",
       "      <td>-0.015028</td>\n",
       "    </tr>\n",
       "    <tr>\n",
       "      <th>CD Account</th>\n",
       "      <td>0.008043</td>\n",
       "      <td>0.010353</td>\n",
       "      <td>0.169738</td>\n",
       "      <td>0.019972</td>\n",
       "      <td>0.014110</td>\n",
       "      <td>0.136534</td>\n",
       "      <td>0.013934</td>\n",
       "      <td>0.089311</td>\n",
       "      <td>0.316355</td>\n",
       "      <td>0.317034</td>\n",
       "      <td>1.000000</td>\n",
       "      <td>0.175880</td>\n",
       "      <td>0.278644</td>\n",
       "    </tr>\n",
       "    <tr>\n",
       "      <th>Online</th>\n",
       "      <td>0.013702</td>\n",
       "      <td>0.013898</td>\n",
       "      <td>0.014206</td>\n",
       "      <td>0.016990</td>\n",
       "      <td>0.010354</td>\n",
       "      <td>-0.003611</td>\n",
       "      <td>-0.015004</td>\n",
       "      <td>-0.005995</td>\n",
       "      <td>0.006278</td>\n",
       "      <td>0.012627</td>\n",
       "      <td>0.175880</td>\n",
       "      <td>1.000000</td>\n",
       "      <td>0.004210</td>\n",
       "    </tr>\n",
       "    <tr>\n",
       "      <th>CreditCard</th>\n",
       "      <td>0.007681</td>\n",
       "      <td>0.008967</td>\n",
       "      <td>-0.002385</td>\n",
       "      <td>0.007691</td>\n",
       "      <td>0.011588</td>\n",
       "      <td>-0.006689</td>\n",
       "      <td>-0.011014</td>\n",
       "      <td>-0.007231</td>\n",
       "      <td>0.002802</td>\n",
       "      <td>-0.015028</td>\n",
       "      <td>0.278644</td>\n",
       "      <td>0.004210</td>\n",
       "      <td>1.000000</td>\n",
       "    </tr>\n",
       "  </tbody>\n",
       "</table>\n",
       "</div>"
      ],
      "text/plain": [
       "                         Age  Experience    Income  ZIP Code    Family  \\\n",
       "Age                 1.000000    0.994215 -0.055269 -0.029216 -0.046418   \n",
       "Experience          0.994215    1.000000 -0.046574 -0.028626 -0.052563   \n",
       "Income             -0.055269   -0.046574  1.000000 -0.016410 -0.157501   \n",
       "ZIP Code           -0.029216   -0.028626 -0.016410  1.000000  0.011778   \n",
       "Family             -0.046418   -0.052563 -0.157501  0.011778  1.000000   \n",
       "CCAvg              -0.052012   -0.050077  0.645984 -0.004061 -0.109275   \n",
       "Education           0.041334    0.013152 -0.187524 -0.017377  0.064929   \n",
       "Mortgage           -0.012539   -0.010582  0.206806  0.007383 -0.020445   \n",
       "Personal Loan      -0.007726   -0.007413  0.502462  0.000107  0.061367   \n",
       "Securities Account -0.000436   -0.001232 -0.002616  0.004704  0.019994   \n",
       "CD Account          0.008043    0.010353  0.169738  0.019972  0.014110   \n",
       "Online              0.013702    0.013898  0.014206  0.016990  0.010354   \n",
       "CreditCard          0.007681    0.008967 -0.002385  0.007691  0.011588   \n",
       "\n",
       "                       CCAvg  Education  Mortgage  Personal Loan  \\\n",
       "Age                -0.052012   0.041334 -0.012539      -0.007726   \n",
       "Experience         -0.050077   0.013152 -0.010582      -0.007413   \n",
       "Income              0.645984  -0.187524  0.206806       0.502462   \n",
       "ZIP Code           -0.004061  -0.017377  0.007383       0.000107   \n",
       "Family             -0.109275   0.064929 -0.020445       0.061367   \n",
       "CCAvg               1.000000  -0.136124  0.109905       0.366889   \n",
       "Education          -0.136124   1.000000 -0.033327       0.136722   \n",
       "Mortgage            0.109905  -0.033327  1.000000       0.142095   \n",
       "Personal Loan       0.366889   0.136722  0.142095       1.000000   \n",
       "Securities Account  0.015086  -0.010812 -0.005411       0.021954   \n",
       "CD Account          0.136534   0.013934  0.089311       0.316355   \n",
       "Online             -0.003611  -0.015004 -0.005995       0.006278   \n",
       "CreditCard         -0.006689  -0.011014 -0.007231       0.002802   \n",
       "\n",
       "                    Securities Account  CD Account    Online  CreditCard  \n",
       "Age                          -0.000436    0.008043  0.013702    0.007681  \n",
       "Experience                   -0.001232    0.010353  0.013898    0.008967  \n",
       "Income                       -0.002616    0.169738  0.014206   -0.002385  \n",
       "ZIP Code                      0.004704    0.019972  0.016990    0.007691  \n",
       "Family                        0.019994    0.014110  0.010354    0.011588  \n",
       "CCAvg                         0.015086    0.136534 -0.003611   -0.006689  \n",
       "Education                    -0.010812    0.013934 -0.015004   -0.011014  \n",
       "Mortgage                     -0.005411    0.089311 -0.005995   -0.007231  \n",
       "Personal Loan                 0.021954    0.316355  0.006278    0.002802  \n",
       "Securities Account            1.000000    0.317034  0.012627   -0.015028  \n",
       "CD Account                    0.317034    1.000000  0.175880    0.278644  \n",
       "Online                        0.012627    0.175880  1.000000    0.004210  \n",
       "CreditCard                   -0.015028    0.278644  0.004210    1.000000  "
      ]
     },
     "execution_count": 14,
     "metadata": {},
     "output_type": "execute_result"
    }
   ],
   "source": [
    "data.corr()"
   ]
  },
  {
   "cell_type": "markdown",
   "id": "a7634889",
   "metadata": {},
   "source": [
    "In above table positive value indicates the positive correlation between variables,\n",
    "negative value represents negative correlation among variables\n",
    "and zero represents no relationship between variables."
   ]
  },
  {
   "cell_type": "code",
   "execution_count": 21,
   "id": "e557173f",
   "metadata": {},
   "outputs": [
    {
     "data": {
      "text/plain": [
       "<AxesSubplot:>"
      ]
     },
     "execution_count": 21,
     "metadata": {},
     "output_type": "execute_result"
    },
    {
     "data": {
      "image/png": "[encoded data removed]",
      "text/plain": [
       "<Figure size 720x720 with 2 Axes>"
      ]
     },
     "metadata": {
      "needs_background": "light"
     },
     "output_type": "display_data"
    }
   ],
   "source": [
    "plt.figure(figsize=(10,10))\n",
    "sns.heatmap(data.corr(),annot=True,square=True,fmt='.1f')"
   ]
  },
  {
   "cell_type": "code",
   "execution_count": 15,
   "id": "ae7fec36",
   "metadata": {},
   "outputs": [],
   "source": [
    "data=data.drop('Age',axis=1)"
   ]
  },
  {
   "cell_type": "code",
   "execution_count": 16,
   "id": "987289f3",
   "metadata": {},
   "outputs": [],
   "source": [
    "x=data.drop('Personal Loan',axis=1)"
   ]
  },
  {
   "cell_type": "code",
   "execution_count": 17,
   "id": "30db3b16",
   "metadata": {},
   "outputs": [],
   "source": [
    "y=data['Personal Loan']"
   ]
  },
  {
   "cell_type": "code",
   "execution_count": 18,
   "id": "9c034f89",
   "metadata": {},
   "outputs": [
    {
     "data": {
      "text/html": [
       "<div>\n",
       "<style scoped>\n",
       "    .dataframe tbody tr th:only-of-type {\n",
       "        vertical-align: middle;\n",
       "    }\n",
       "\n",
       "    .dataframe tbody tr th {\n",
       "        vertical-align: top;\n",
       "    }\n",
       "\n",
       "    .dataframe thead th {\n",
       "        text-align: right;\n",
       "    }\n",
       "</style>\n",
       "<table border=\"1\" class=\"dataframe\">\n",
       "  <thead>\n",
       "    <tr style=\"text-align: right;\">\n",
       "      <th></th>\n",
       "      <th>Experience</th>\n",
       "      <th>Income</th>\n",
       "      <th>ZIP Code</th>\n",
       "      <th>Family</th>\n",
       "      <th>CCAvg</th>\n",
       "      <th>Education</th>\n",
       "      <th>Mortgage</th>\n",
       "      <th>Securities Account</th>\n",
       "      <th>CD Account</th>\n",
       "      <th>Online</th>\n",
       "      <th>CreditCard</th>\n",
       "    </tr>\n",
       "  </thead>\n",
       "  <tbody>\n",
       "    <tr>\n",
       "      <th>0</th>\n",
       "      <td>1</td>\n",
       "      <td>49</td>\n",
       "      <td>91107</td>\n",
       "      <td>4</td>\n",
       "      <td>1.6</td>\n",
       "      <td>1</td>\n",
       "      <td>0</td>\n",
       "      <td>1</td>\n",
       "      <td>0</td>\n",
       "      <td>0</td>\n",
       "      <td>0</td>\n",
       "    </tr>\n",
       "    <tr>\n",
       "      <th>1</th>\n",
       "      <td>19</td>\n",
       "      <td>34</td>\n",
       "      <td>90089</td>\n",
       "      <td>3</td>\n",
       "      <td>1.5</td>\n",
       "      <td>1</td>\n",
       "      <td>0</td>\n",
       "      <td>1</td>\n",
       "      <td>0</td>\n",
       "      <td>0</td>\n",
       "      <td>0</td>\n",
       "    </tr>\n",
       "    <tr>\n",
       "      <th>2</th>\n",
       "      <td>15</td>\n",
       "      <td>11</td>\n",
       "      <td>94720</td>\n",
       "      <td>1</td>\n",
       "      <td>1.0</td>\n",
       "      <td>1</td>\n",
       "      <td>0</td>\n",
       "      <td>0</td>\n",
       "      <td>0</td>\n",
       "      <td>0</td>\n",
       "      <td>0</td>\n",
       "    </tr>\n",
       "    <tr>\n",
       "      <th>3</th>\n",
       "      <td>9</td>\n",
       "      <td>100</td>\n",
       "      <td>94112</td>\n",
       "      <td>1</td>\n",
       "      <td>2.7</td>\n",
       "      <td>2</td>\n",
       "      <td>0</td>\n",
       "      <td>0</td>\n",
       "      <td>0</td>\n",
       "      <td>0</td>\n",
       "      <td>0</td>\n",
       "    </tr>\n",
       "    <tr>\n",
       "      <th>4</th>\n",
       "      <td>8</td>\n",
       "      <td>45</td>\n",
       "      <td>91330</td>\n",
       "      <td>4</td>\n",
       "      <td>1.0</td>\n",
       "      <td>2</td>\n",
       "      <td>0</td>\n",
       "      <td>0</td>\n",
       "      <td>0</td>\n",
       "      <td>0</td>\n",
       "      <td>1</td>\n",
       "    </tr>\n",
       "  </tbody>\n",
       "</table>\n",
       "</div>"
      ],
      "text/plain": [
       "   Experience  Income  ZIP Code  Family  CCAvg  Education  Mortgage  \\\n",
       "0           1      49     91107       4    1.6          1         0   \n",
       "1          19      34     90089       3    1.5          1         0   \n",
       "2          15      11     94720       1    1.0          1         0   \n",
       "3           9     100     94112       1    2.7          2         0   \n",
       "4           8      45     91330       4    1.0          2         0   \n",
       "\n",
       "   Securities Account  CD Account  Online  CreditCard  \n",
       "0                   1           0       0           0  \n",
       "1                   1           0       0           0  \n",
       "2                   0           0       0           0  \n",
       "3                   0           0       0           0  \n",
       "4                   0           0       0           1  "
      ]
     },
     "execution_count": 18,
     "metadata": {},
     "output_type": "execute_result"
    }
   ],
   "source": [
    "x.head()"
   ]
  },
  {
   "cell_type": "code",
   "execution_count": 19,
   "id": "5b4293c2",
   "metadata": {},
   "outputs": [
    {
     "data": {
      "text/plain": [
       "0    0\n",
       "1    0\n",
       "2    0\n",
       "3    0\n",
       "4    0\n",
       "Name: Personal Loan, dtype: int64"
      ]
     },
     "execution_count": 19,
     "metadata": {},
     "output_type": "execute_result"
    }
   ],
   "source": [
    "y.head()"
   ]
  },
  {
   "cell_type": "code",
   "execution_count": 20,
   "id": "1f3938f9",
   "metadata": {},
   "outputs": [],
   "source": [
    "from sklearn.linear_model import LogisticRegression\n",
    "from sklearn.model_selection import train_test_split\n",
    "from sklearn import metrics"
   ]
  },
  {
   "cell_type": "markdown",
   "id": "c2f30606",
   "metadata": {},
   "source": [
    "### SPLITTING THE DATA INTO TRAIN AND TEST"
   ]
  },
  {
   "cell_type": "code",
   "execution_count": 21,
   "id": "bdc81a2c",
   "metadata": {},
   "outputs": [],
   "source": [
    "x_train,x_test,y_train,y_test=train_test_split(x,y,test_size=0.30,random_state=1)"
   ]
  },
  {
   "cell_type": "code",
   "execution_count": 22,
   "id": "8b5a1c22",
   "metadata": {},
   "outputs": [
    {
     "data": {
      "text/html": [
       "<div>\n",
       "<style scoped>\n",
       "    .dataframe tbody tr th:only-of-type {\n",
       "        vertical-align: middle;\n",
       "    }\n",
       "\n",
       "    .dataframe tbody tr th {\n",
       "        vertical-align: top;\n",
       "    }\n",
       "\n",
       "    .dataframe thead th {\n",
       "        text-align: right;\n",
       "    }\n",
       "</style>\n",
       "<table border=\"1\" class=\"dataframe\">\n",
       "  <thead>\n",
       "    <tr style=\"text-align: right;\">\n",
       "      <th></th>\n",
       "      <th>Experience</th>\n",
       "      <th>Income</th>\n",
       "      <th>ZIP Code</th>\n",
       "      <th>Family</th>\n",
       "      <th>CCAvg</th>\n",
       "      <th>Education</th>\n",
       "      <th>Mortgage</th>\n",
       "      <th>Securities Account</th>\n",
       "      <th>CD Account</th>\n",
       "      <th>Online</th>\n",
       "      <th>CreditCard</th>\n",
       "    </tr>\n",
       "  </thead>\n",
       "  <tbody>\n",
       "    <tr>\n",
       "      <th>1334</th>\n",
       "      <td>22</td>\n",
       "      <td>35</td>\n",
       "      <td>94304</td>\n",
       "      <td>2</td>\n",
       "      <td>1.3</td>\n",
       "      <td>1</td>\n",
       "      <td>0</td>\n",
       "      <td>0</td>\n",
       "      <td>0</td>\n",
       "      <td>1</td>\n",
       "      <td>0</td>\n",
       "    </tr>\n",
       "    <tr>\n",
       "      <th>4768</th>\n",
       "      <td>14</td>\n",
       "      <td>39</td>\n",
       "      <td>93118</td>\n",
       "      <td>1</td>\n",
       "      <td>2.0</td>\n",
       "      <td>2</td>\n",
       "      <td>0</td>\n",
       "      <td>0</td>\n",
       "      <td>0</td>\n",
       "      <td>1</td>\n",
       "      <td>0</td>\n",
       "    </tr>\n",
       "    <tr>\n",
       "      <th>65</th>\n",
       "      <td>35</td>\n",
       "      <td>131</td>\n",
       "      <td>91360</td>\n",
       "      <td>1</td>\n",
       "      <td>3.8</td>\n",
       "      <td>1</td>\n",
       "      <td>0</td>\n",
       "      <td>0</td>\n",
       "      <td>0</td>\n",
       "      <td>1</td>\n",
       "      <td>1</td>\n",
       "    </tr>\n",
       "    <tr>\n",
       "      <th>177</th>\n",
       "      <td>3</td>\n",
       "      <td>65</td>\n",
       "      <td>94132</td>\n",
       "      <td>4</td>\n",
       "      <td>1.8</td>\n",
       "      <td>2</td>\n",
       "      <td>244</td>\n",
       "      <td>0</td>\n",
       "      <td>0</td>\n",
       "      <td>0</td>\n",
       "      <td>0</td>\n",
       "    </tr>\n",
       "    <tr>\n",
       "      <th>4489</th>\n",
       "      <td>13</td>\n",
       "      <td>21</td>\n",
       "      <td>95518</td>\n",
       "      <td>3</td>\n",
       "      <td>0.2</td>\n",
       "      <td>2</td>\n",
       "      <td>0</td>\n",
       "      <td>0</td>\n",
       "      <td>0</td>\n",
       "      <td>1</td>\n",
       "      <td>0</td>\n",
       "    </tr>\n",
       "  </tbody>\n",
       "</table>\n",
       "</div>"
      ],
      "text/plain": [
       "      Experience  Income  ZIP Code  Family  CCAvg  Education  Mortgage  \\\n",
       "1334          22      35     94304       2    1.3          1         0   \n",
       "4768          14      39     93118       1    2.0          2         0   \n",
       "65            35     131     91360       1    3.8          1         0   \n",
       "177            3      65     94132       4    1.8          2       244   \n",
       "4489          13      21     95518       3    0.2          2         0   \n",
       "\n",
       "      Securities Account  CD Account  Online  CreditCard  \n",
       "1334                   0           0       1           0  \n",
       "4768                   0           0       1           0  \n",
       "65                     0           0       1           1  \n",
       "177                    0           0       0           0  \n",
       "4489                   0           0       1           0  "
      ]
     },
     "execution_count": 22,
     "metadata": {},
     "output_type": "execute_result"
    }
   ],
   "source": [
    "x_train.head()"
   ]
  },
  {
   "cell_type": "code",
   "execution_count": 23,
   "id": "78c05159",
   "metadata": {},
   "outputs": [
    {
     "data": {
      "text/plain": [
       "1334    0\n",
       "4768    0\n",
       "65      0\n",
       "177     0\n",
       "4489    0\n",
       "Name: Personal Loan, dtype: int64"
      ]
     },
     "execution_count": 23,
     "metadata": {},
     "output_type": "execute_result"
    }
   ],
   "source": [
    "y_train.head()"
   ]
  },
  {
   "cell_type": "markdown",
   "id": "7ed71751",
   "metadata": {},
   "source": [
    "### LOGISTIC REGRESSION"
   ]
  },
  {
   "cell_type": "code",
   "execution_count": 24,
   "id": "9bbee6e3",
   "metadata": {},
   "outputs": [
    {
     "data": {
      "text/plain": [
       "LogisticRegression(solver='liblinear')"
      ]
     },
     "execution_count": 24,
     "metadata": {},
     "output_type": "execute_result"
    }
   ],
   "source": [
    "model=LogisticRegression(solver='liblinear')\n",
    "model.fit(x_train,y_train)"
   ]
  },
  {
   "cell_type": "markdown",
   "id": "82140a6a",
   "metadata": {},
   "source": [
    "#### SCORE ( IN SAMPLE R^2 , OUT SAMPLE R^2 )"
   ]
  },
  {
   "cell_type": "code",
   "execution_count": 25,
   "id": "aa556ceb",
   "metadata": {},
   "outputs": [],
   "source": [
    "model1=model.score(x_train,y_train)"
   ]
  },
  {
   "cell_type": "code",
   "execution_count": 26,
   "id": "45e8facd",
   "metadata": {},
   "outputs": [
    {
     "data": {
      "text/plain": [
       "0.9091428571428571"
      ]
     },
     "execution_count": 26,
     "metadata": {},
     "output_type": "execute_result"
    }
   ],
   "source": [
    "model1"
   ]
  },
  {
   "cell_type": "code",
   "execution_count": 27,
   "id": "b90fbbad",
   "metadata": {},
   "outputs": [],
   "source": [
    "model2=model.score(x_test,y_test)"
   ]
  },
  {
   "cell_type": "code",
   "execution_count": 28,
   "id": "cbccea10",
   "metadata": {},
   "outputs": [
    {
     "data": {
      "text/plain": [
       "0.9073333333333333"
      ]
     },
     "execution_count": 28,
     "metadata": {},
     "output_type": "execute_result"
    }
   ],
   "source": [
    "model2"
   ]
  },
  {
   "cell_type": "code",
   "execution_count": 29,
   "id": "bacc3034",
   "metadata": {},
   "outputs": [],
   "source": [
    "y_predict=model.predict(x_test)#for given x we have to predict y thats y we take x test"
   ]
  },
  {
   "cell_type": "markdown",
   "id": "3947a562",
   "metadata": {},
   "source": [
    "#### CONFUSION MATRIX"
   ]
  },
  {
   "cell_type": "code",
   "execution_count": 30,
   "id": "b8ba2232",
   "metadata": {},
   "outputs": [],
   "source": [
    "cm=metrics.confusion_matrix(y_test,y_predict)"
   ]
  },
  {
   "cell_type": "code",
   "execution_count": 31,
   "id": "74ec229a",
   "metadata": {},
   "outputs": [
    {
     "data": {
      "text/plain": [
       "array([[1318,   33],\n",
       "       [ 106,   43]], dtype=int64)"
      ]
     },
     "execution_count": 31,
     "metadata": {},
     "output_type": "execute_result"
    }
   ],
   "source": [
    "cm"
   ]
  },
  {
   "cell_type": "markdown",
   "id": "aaa66197",
   "metadata": {},
   "source": [
    "### NAIVE BAYES"
   ]
  },
  {
   "cell_type": "code",
   "execution_count": 32,
   "id": "caaaef6e",
   "metadata": {},
   "outputs": [],
   "source": [
    "from sklearn.naive_bayes import GaussianNB"
   ]
  },
  {
   "cell_type": "code",
   "execution_count": 33,
   "id": "93b3038b",
   "metadata": {},
   "outputs": [],
   "source": [
    "gaussian=GaussianNB()"
   ]
  },
  {
   "cell_type": "code",
   "execution_count": 34,
   "id": "3b2a0c83",
   "metadata": {},
   "outputs": [
    {
     "data": {
      "text/plain": [
       "GaussianNB()"
      ]
     },
     "execution_count": 34,
     "metadata": {},
     "output_type": "execute_result"
    }
   ],
   "source": [
    "gaussian.fit(x_train,y_train)"
   ]
  },
  {
   "cell_type": "markdown",
   "id": "7ccc2d47",
   "metadata": {},
   "source": [
    "#### SCORE ( IN SAMPLE R^2 , OUT SAMPLE R^2 )"
   ]
  },
  {
   "cell_type": "code",
   "execution_count": 35,
   "id": "7646a263",
   "metadata": {},
   "outputs": [],
   "source": [
    "model3=gaussian.score(x_train,y_train)"
   ]
  },
  {
   "cell_type": "code",
   "execution_count": 36,
   "id": "141ca1b8",
   "metadata": {},
   "outputs": [
    {
     "data": {
      "text/plain": [
       "0.8948571428571429"
      ]
     },
     "execution_count": 36,
     "metadata": {},
     "output_type": "execute_result"
    }
   ],
   "source": [
    "model3"
   ]
  },
  {
   "cell_type": "code",
   "execution_count": 37,
   "id": "00c438a6",
   "metadata": {},
   "outputs": [],
   "source": [
    "model4=gaussian.score(x_test,y_test)"
   ]
  },
  {
   "cell_type": "code",
   "execution_count": 38,
   "id": "9bbb3d9e",
   "metadata": {},
   "outputs": [
    {
     "data": {
      "text/plain": [
       "0.8833333333333333"
      ]
     },
     "execution_count": 38,
     "metadata": {},
     "output_type": "execute_result"
    }
   ],
   "source": [
    "model4"
   ]
  },
  {
   "cell_type": "markdown",
   "id": "942a842f",
   "metadata": {},
   "source": [
    "#### CONFUSION MATRIX"
   ]
  },
  {
   "cell_type": "code",
   "execution_count": 39,
   "id": "0618f51e",
   "metadata": {},
   "outputs": [],
   "source": [
    "cm1=metrics.confusion_matrix(y_test,y_predict)"
   ]
  },
  {
   "cell_type": "code",
   "execution_count": 40,
   "id": "725aa6c5",
   "metadata": {},
   "outputs": [
    {
     "data": {
      "text/plain": [
       "array([[1318,   33],\n",
       "       [ 106,   43]], dtype=int64)"
      ]
     },
     "execution_count": 40,
     "metadata": {},
     "output_type": "execute_result"
    }
   ],
   "source": [
    "cm1"
   ]
  },
  {
   "cell_type": "markdown",
   "id": "463c1a71",
   "metadata": {},
   "source": [
    "### K NEAREST NEIGHBOR CLASSIFIER"
   ]
  },
  {
   "cell_type": "code",
   "execution_count": 41,
   "id": "3201b8a2",
   "metadata": {},
   "outputs": [],
   "source": [
    "from scipy.stats import zscore\n",
    "from sklearn.neighbors import KNeighborsClassifier"
   ]
  },
  {
   "cell_type": "code",
   "execution_count": 42,
   "id": "864643c4",
   "metadata": {},
   "outputs": [],
   "source": [
    "xscaled=x.apply(zscore)"
   ]
  },
  {
   "cell_type": "code",
   "execution_count": 43,
   "id": "19bed859",
   "metadata": {},
   "outputs": [],
   "source": [
    "x_train,x_test,y_train,y_test=train_test_split(xscaled,y,test_size=0.30,random_state=1)"
   ]
  },
  {
   "cell_type": "code",
   "execution_count": 44,
   "id": "866d47db",
   "metadata": {},
   "outputs": [
    {
     "data": {
      "text/plain": [
       "KNeighborsClassifier(n_neighbors=3, weights='distance')"
      ]
     },
     "execution_count": 44,
     "metadata": {},
     "output_type": "execute_result"
    }
   ],
   "source": [
    "knn=KNeighborsClassifier(n_neighbors=3,weights='distance')\n",
    "knn.fit(x_train,y_train)"
   ]
  },
  {
   "cell_type": "markdown",
   "id": "2c4b538e",
   "metadata": {},
   "source": [
    "#### SCORE ( IN SAMPLE R^2 , OUT SAMPLE R^2 )"
   ]
  },
  {
   "cell_type": "code",
   "execution_count": 45,
   "id": "6abd92ad",
   "metadata": {},
   "outputs": [],
   "source": [
    "model5=knn.score(x_train,y_train)"
   ]
  },
  {
   "cell_type": "code",
   "execution_count": 46,
   "id": "b32ad5d9",
   "metadata": {},
   "outputs": [
    {
     "data": {
      "text/plain": [
       "1.0"
      ]
     },
     "execution_count": 46,
     "metadata": {},
     "output_type": "execute_result"
    }
   ],
   "source": [
    "model5"
   ]
  },
  {
   "cell_type": "code",
   "execution_count": 47,
   "id": "a97041d4",
   "metadata": {},
   "outputs": [],
   "source": [
    "model6=knn.score(x_test,y_test)"
   ]
  },
  {
   "cell_type": "code",
   "execution_count": 48,
   "id": "1909080b",
   "metadata": {},
   "outputs": [
    {
     "data": {
      "text/plain": [
       "0.95"
      ]
     },
     "execution_count": 48,
     "metadata": {},
     "output_type": "execute_result"
    }
   ],
   "source": [
    "model6"
   ]
  },
  {
   "cell_type": "code",
   "execution_count": 49,
   "id": "fc8afcc7",
   "metadata": {},
   "outputs": [],
   "source": [
    "y_predict=knn.predict(x_test)"
   ]
  },
  {
   "cell_type": "markdown",
   "id": "27b03efc",
   "metadata": {},
   "source": [
    "#### CONFUSION MATRIX"
   ]
  },
  {
   "cell_type": "code",
   "execution_count": 50,
   "id": "387c53e6",
   "metadata": {},
   "outputs": [],
   "source": [
    "cm=metrics.confusion_matrix(y_test,y_predict)"
   ]
  },
  {
   "cell_type": "code",
   "execution_count": 51,
   "id": "a5f50d6f",
   "metadata": {},
   "outputs": [
    {
     "data": {
      "text/plain": [
       "array([[1339,   12],\n",
       "       [  63,   86]], dtype=int64)"
      ]
     },
     "execution_count": 51,
     "metadata": {},
     "output_type": "execute_result"
    }
   ],
   "source": [
    "cm"
   ]
  },
  {
   "cell_type": "code",
   "execution_count": 24,
   "id": "c20cbc74",
   "metadata": {},
   "outputs": [],
   "source": [
    "result=pd.DataFrame({'CLASSIFIER':['LOGISTIC REGRESSION','NAIVE BAYES','K NEAREST NEIGHBOR'],'SCORES':[0.9091428,0.8948571,1.0]})"
   ]
  },
  {
   "cell_type": "code",
   "execution_count": 25,
   "id": "924bd4d0",
   "metadata": {},
   "outputs": [
    {
     "data": {
      "text/html": [
       "<div>\n",
       "<style scoped>\n",
       "    .dataframe tbody tr th:only-of-type {\n",
       "        vertical-align: middle;\n",
       "    }\n",
       "\n",
       "    .dataframe tbody tr th {\n",
       "        vertical-align: top;\n",
       "    }\n",
       "\n",
       "    .dataframe thead th {\n",
       "        text-align: right;\n",
       "    }\n",
       "</style>\n",
       "<table border=\"1\" class=\"dataframe\">\n",
       "  <thead>\n",
       "    <tr style=\"text-align: right;\">\n",
       "      <th></th>\n",
       "      <th>CLASSIFIER</th>\n",
       "      <th>SCORES</th>\n",
       "    </tr>\n",
       "  </thead>\n",
       "  <tbody>\n",
       "    <tr>\n",
       "      <th>0</th>\n",
       "      <td>LOGISTIC REGRESSION</td>\n",
       "      <td>0.909143</td>\n",
       "    </tr>\n",
       "    <tr>\n",
       "      <th>1</th>\n",
       "      <td>NAIVE BAYES</td>\n",
       "      <td>0.894857</td>\n",
       "    </tr>\n",
       "    <tr>\n",
       "      <th>2</th>\n",
       "      <td>K NEAREST NEIGHBOR</td>\n",
       "      <td>1.000000</td>\n",
       "    </tr>\n",
       "  </tbody>\n",
       "</table>\n",
       "</div>"
      ],
      "text/plain": [
       "            CLASSIFIER    SCORES\n",
       "0  LOGISTIC REGRESSION  0.909143\n",
       "1          NAIVE BAYES  0.894857\n",
       "2   K NEAREST NEIGHBOR  1.000000"
      ]
     },
     "execution_count": 25,
     "metadata": {},
     "output_type": "execute_result"
    }
   ],
   "source": [
    "result"
   ]
  },
  {
   "cell_type": "markdown",
   "id": "669d59b6",
   "metadata": {},
   "source": [
    "# CONCLUSION :"
   ]
  },
  {
   "cell_type": "markdown",
   "id": "4ccb0d24",
   "metadata": {},
   "source": [
    "#### Out of above three classifier\" K NEAREST NEIGHBOR \"shows highest score .It means k nearest neighbors train our model \n",
    "#### with highest accuracy.\n",
    "\n",
    "#### The advantage of using k nearest neighbors is:\n",
    "    1.Time complexity is 0(n).\n",
    "    2.Can make predictions without training.\n",
    "    3.can be used for both classification and regression."
   ]
  },
  {
   "cell_type": "code",
   "execution_count": null,
   "id": "39040989",
   "metadata": {},
   "outputs": [],
   "source": []
  }
 ],
 "metadata": {
  "kernelspec": {
   "display_name": "Python 3 (ipykernel)",
   "language": "python",
   "name": "python3"
  },
  "language_info": {
   "codemirror_mode": {
    "name": "ipython",
    "version": 3
   },
   "file_extension": ".py",
   "mimetype": "text/x-python",
   "name": "python",
   "nbconvert_exporter": "python",
   "pygments_lexer": "ipython3",
   "version": "3.9.12"
  }
 },
 "nbformat": 4,
 "nbformat_minor": 5
}
